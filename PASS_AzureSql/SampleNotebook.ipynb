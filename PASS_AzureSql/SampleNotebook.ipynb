{
    "metadata": {
        "kernelspec": {
            "name": "SQL",
            "display_name": "SQL",
            "language": "sql"
        },
        "language_info": {
            "name": "sql",
            "version": ""
        },
        "extensions": {
            "azuredatastudio": {
                "version": 1,
                "views": []
            }
        }
    },
    "nbformat_minor": 2,
    "nbformat": 4,
    "cells": [
        {
            "cell_type": "markdown",
            "source": [
                "# Sample Notebook in ADS\r\n",
                "\r\n",
                "This is a sample notebook, you can have text cells that describe what's going on, and code cells to run code against your servers.\r\n",
                "\r\n",
                "Let's take a quick look at our version:"
            ],
            "metadata": {
                "azdata_cell_guid": "f899a39f-c8ba-49ec-bd8e-1a3abbb065a6"
            }
        },
        {
            "cell_type": "code",
            "source": [
                "select @@version"
            ],
            "metadata": {
                "azdata_cell_guid": "01c7c742-4dfc-46ca-a92c-a9bd737398ac"
            },
            "outputs": [
                {
                    "output_type": "display_data",
                    "data": {
                        "text/html": "(1 row affected)"
                    },
                    "metadata": {}
                },
                {
                    "output_type": "display_data",
                    "data": {
                        "text/html": "Total execution time: 00:00:00.098"
                    },
                    "metadata": {}
                },
                {
                    "output_type": "execute_result",
                    "metadata": {},
                    "execution_count": 1,
                    "data": {
                        "application/vnd.dataresource+json": {
                            "schema": {
                                "fields": [
                                    {
                                        "name": "(No column name)"
                                    }
                                ]
                            },
                            "data": [
                                {
                                    "0": "Microsoft SQL Azure (RTM) - 12.0.2000.8 \n\tSep 18 2021 19:01:34 \n\tCopyright (C) 2019 Microsoft Corporation\n"
                                }
                            ]
                        },
                        "text/html": [
                            "<table>",
                            "<tr><th>(No column name)</th></tr>",
                            "<tr><td>Microsoft SQL Azure (RTM) - 12.0.2000.8 \n\tSep 18 2021 19:01:34 \n\tCopyright (C) 2019 Microsoft Corporation\n</td></tr>",
                            "</table>"
                        ]
                    }
                }
            ],
            "execution_count": 1
        }
    ]
}